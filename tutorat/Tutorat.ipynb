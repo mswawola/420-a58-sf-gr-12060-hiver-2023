{
 "cells": [
  {
   "cell_type": "markdown",
   "metadata": {},
   "source": [
    "**420-A58-SF - Algorithmes d'apprentissage non supervisé - Hiver 2023 - Spécialisation technique en Intelligence Artificielle**<br/>\n",
    "MIT License - Copyright (c) 2023 Mikaël Swawola\n",
    "<br/>"
   ]
  },
  {
   "cell_type": "markdown",
   "metadata": {},
   "source": [
    "---\n",
    "# Tutorat - Systèmes de recommandation"
   ]
  },
  {
   "cell_type": "markdown",
   "metadata": {},
   "source": [
    "On considère la matrice d'utilité Y ci-dessous. Les notes sont données par les utilisateurs Alice, Bob et Eve sur une échelle de 1 à 5. Les produits notés sont nommés a,b,c,d,e,f,g et h."
   ]
  },
  {
   "cell_type": "markdown",
   "metadata": {},
   "source": [
    "|   | Alice  | Bob  | Eve  |\n",
    "|---|---|---|---|\n",
    "| a  | 4   |   | 2  |\n",
    "| b  | 5  | 3  |   |\n",
    "| c  |   | 4  | 1  |\n",
    "| d  | 5  | 3  | 3  |\n",
    "| e  | 1  | 1  |   |\n",
    "| f  |   | 2  | 4  |\n",
    "| g  | 3  | 1  | 5  |\n",
    "| h  | 2  |   | 3  |"
   ]
  },
  {
   "cell_type": "markdown",
   "metadata": {},
   "source": [
    "### Question 1 - À l'aide de Numpy, définir les tableaux `Y` et `R` correspondant à la matrice d'utilité ci-dessus. Afficher ces deux tableaux à l'aide la commande `print`."
   ]
  },
  {
   "cell_type": "markdown",
   "metadata": {},
   "source": [
    "### ----- Votre réponse ci-dessous -----"
   ]
  },
  {
   "cell_type": "code",
   "execution_count": null,
   "metadata": {},
   "outputs": [],
   "source": []
  },
  {
   "cell_type": "markdown",
   "metadata": {},
   "source": [
    "### Question 2 - Initialiser les variables `n_produits` et `n_utilisateurs` correspondant respectivement au nombre de produits et au nombre d'utilisateurs."
   ]
  },
  {
   "cell_type": "markdown",
   "metadata": {},
   "source": [
    "### ----- Votre réponse ci-dessous -----"
   ]
  },
  {
   "cell_type": "code",
   "execution_count": null,
   "metadata": {},
   "outputs": [],
   "source": []
  },
  {
   "cell_type": "markdown",
   "metadata": {},
   "source": [
    "### Question 3 - Normaliser la matrice `Y` en soustrayant chaque note de la matrice d'utilité par le moyenne des notes. Nommez la matrice normalisée `Y_norm`. Afficher `Y_norm` à l'aide de la commande `print`."
   ]
  },
  {
   "cell_type": "markdown",
   "metadata": {},
   "source": [
    "### ----- Votre réponse ci-dessous -----"
   ]
  },
  {
   "cell_type": "code",
   "execution_count": null,
   "metadata": {},
   "outputs": [],
   "source": []
  },
  {
   "cell_type": "markdown",
   "metadata": {},
   "source": [
    "### Question 4 - Afin d'appliquer l'algorithme de filtrage collaboratif, initialiser aléatoirement les deux matrices `X` et `theta` correspondant respectivement aux vecteurs profile des produits et aux vecteurs profile des utilisateurs. Les dimensions de ces deux matrices doivent être choisies adéquatement pour deux paramètres (n=2). Afficher les dimensions de `X` et `theta` à l'aide de la commande `print`."
   ]
  },
  {
   "cell_type": "markdown",
   "metadata": {},
   "source": [
    "### ----- Votre réponse ci-dessous -----"
   ]
  },
  {
   "cell_type": "code",
   "execution_count": null,
   "metadata": {},
   "outputs": [],
   "source": []
  },
  {
   "cell_type": "markdown",
   "metadata": {},
   "source": [
    "### Question 5 - À l'aide des fonctions disponibles dans le fichier `helpers.py`, entraînez l'algorithme de filtrage collaboratif. Choisissez une régularisation `L` égale à 1. Quelle est la valeur minimale du coût obtenue ?"
   ]
  },
  {
   "cell_type": "markdown",
   "metadata": {},
   "source": [
    "### ----- Votre réponse ci-dessous -----"
   ]
  },
  {
   "cell_type": "code",
   "execution_count": null,
   "metadata": {},
   "outputs": [],
   "source": []
  },
  {
   "cell_type": "markdown",
   "metadata": {},
   "source": [
    "### Question 6 - À l'aide de la matrice de bas rang, calculez l'ensemble des prédictions."
   ]
  },
  {
   "cell_type": "markdown",
   "metadata": {},
   "source": [
    "### ----- Votre réponse ci-dessous -----"
   ]
  },
  {
   "cell_type": "code",
   "execution_count": null,
   "metadata": {},
   "outputs": [],
   "source": []
  },
  {
   "cell_type": "markdown",
   "metadata": {},
   "source": [
    "### Question 7 - Calculez et affichez le RMSE."
   ]
  },
  {
   "cell_type": "markdown",
   "metadata": {},
   "source": [
    "### ----- Votre réponse ci-dessous -----"
   ]
  },
  {
   "cell_type": "code",
   "execution_count": null,
   "metadata": {},
   "outputs": [],
   "source": []
  },
  {
   "cell_type": "markdown",
   "metadata": {},
   "source": [
    "### Question 8 - Ajoutez un nouvel utilisateur nommé David. Quelle recommandation lui sera faite pour le produit \"e\" ? Entrainez à nouveau le modèle."
   ]
  },
  {
   "cell_type": "markdown",
   "metadata": {},
   "source": [
    "### ----- Votre réponse ci-dessous -----"
   ]
  },
  {
   "cell_type": "code",
   "execution_count": null,
   "metadata": {},
   "outputs": [],
   "source": []
  },
  {
   "cell_type": "markdown",
   "metadata": {},
   "source": [
    "### Question 9 - Trouver le plus proche voisin du produit \"h\" à l'aide d'un diagramme en nuage de points. Confirmer la lectture du graphique par une méthode analytique."
   ]
  },
  {
   "cell_type": "markdown",
   "metadata": {},
   "source": [
    "### ----- Votre réponse ci-dessous -----"
   ]
  },
  {
   "cell_type": "code",
   "execution_count": null,
   "metadata": {},
   "outputs": [],
   "source": []
  }
 ],
 "metadata": {
  "kernelspec": {
   "display_name": "Python 3 (ipykernel)",
   "language": "python",
   "name": "python3"
  },
  "language_info": {
   "codemirror_mode": {
    "name": "ipython",
    "version": 3
   },
   "file_extension": ".py",
   "mimetype": "text/x-python",
   "name": "python",
   "nbconvert_exporter": "python",
   "pygments_lexer": "ipython3",
   "version": "3.11.2"
  }
 },
 "nbformat": 4,
 "nbformat_minor": 4
}
