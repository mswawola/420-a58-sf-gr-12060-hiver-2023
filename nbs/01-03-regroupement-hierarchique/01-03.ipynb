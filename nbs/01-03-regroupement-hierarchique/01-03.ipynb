{
 "cells": [
  {
   "cell_type": "markdown",
   "metadata": {},
   "source": [
    "**420-A58-SF - Algorithmes d'apprentissage non supervisé - Hiver 2023 - Spécialisation technique en Intelligence Artificielle**<br/>\n",
    "MIT License - Copyright (c) 2023 Mikaël Swawola\n",
    "<br/>\n",
    "![Travaux Pratiques - Regroupement hiérachique](static/01-03-banner.png)\n",
    "<br/>\n",
    "**Objectif:** cette séance de travaux pratiques a pour objectif l'analyse de données génomiques (jeu de données NCI60). Les techniques mise en oeuvre seront l'ACP et le regroupement hiérarchique"
   ]
  },
  {
   "cell_type": "code",
   "execution_count": 1,
   "metadata": {},
   "outputs": [],
   "source": [
    "%reload_ext autoreload\n",
    "%autoreload 2\n",
    "%matplotlib inline"
   ]
  },
  {
   "cell_type": "code",
   "execution_count": 2,
   "metadata": {},
   "outputs": [],
   "source": [
    "import numpy as np\n",
    "import pandas as pd\n",
    "\n",
    "# Le reste des modules sera importé au fur et à mesure des exercices ..."
   ]
  },
  {
   "cell_type": "code",
   "execution_count": 3,
   "metadata": {},
   "outputs": [],
   "source": [
    "import seaborn as sns; sns.set()\n",
    "import matplotlib.pyplot as plt\n",
    "# Configuration de la visualisation\n",
    "sns.set(style=\"darkgrid\")\n",
    "sns.set_context(\"notebook\", font_scale=1.5, rc={\"lines.linewidth\": 2.5})\n",
    "plt.rcParams['figure.figsize']=(12,8)"
   ]
  },
  {
   "cell_type": "markdown",
   "metadata": {},
   "source": [
    "## 1 - Lecture des données"
   ]
  },
  {
   "cell_type": "markdown",
   "metadata": {},
   "source": [
    "Les méthodes d'apprentissage non supervisé comme l'ACP et le clustering sont très populaires en analyse des données génomiques. Ces méthodes seront illustrées sur le jeu de données de biopuces NCI60, qui\n",
    "consiste en 6830 **mesures d'expression de gènes** sur 64 lignées de cellules cancéreuses."
   ]
  },
  {
   "cell_type": "markdown",
   "metadata": {},
   "source": [
    "**Exercice 1-1 - À l'aide de la librairie Pandas, lire le fichier de données `NCI60.csv`**"
   ]
  },
  {
   "cell_type": "code",
   "execution_count": 4,
   "metadata": {},
   "outputs": [],
   "source": [
    "# Compléter cette cellule ~ 1 ligne de code\n",
    "nci60 = pd.read_csv('../../data/NCI60.csv', index_col=[0])"
   ]
  },
  {
   "cell_type": "markdown",
   "metadata": {},
   "source": [
    "**Exercice 1-2 - Combien d'observations et de variables compte le jeu de données ? Que constatez vous ?**"
   ]
  },
  {
   "cell_type": "code",
   "execution_count": 5,
   "metadata": {},
   "outputs": [
    {
     "data": {
      "text/plain": [
       "(64, 6830)"
      ]
     },
     "execution_count": 5,
     "metadata": {},
     "output_type": "execute_result"
    }
   ],
   "source": [
    "# Compléter cette cellule ~ 1 ligne de code\n",
    "# Fat data nb col > nb obs\n",
    "nci60.shape"
   ]
  },
  {
   "cell_type": "markdown",
   "metadata": {},
   "source": [
    "**Exercice 1-3 - Une chance, ce jeu de données est fourni avec le type de cancer pour chaque cellule cancéreuse. Lire le fichier `NCI60-labels.csv`**"
   ]
  },
  {
   "cell_type": "code",
   "execution_count": 6,
   "metadata": {},
   "outputs": [
    {
     "data": {
      "text/plain": [
       "array(['CNS', 'RENAL', 'BREAST', 'NSCLC', 'UNKNOWN', 'OVARIAN',\n",
       "       'MELANOMA', 'PROSTATE', 'LEUKEMIA', 'K562B-repro', 'K562A-repro',\n",
       "       'COLON', 'MCF7A-repro', 'MCF7D-repro'], dtype=object)"
      ]
     },
     "execution_count": 6,
     "metadata": {},
     "output_type": "execute_result"
    }
   ],
   "source": [
    "# Compléter cette cellule ~ 1 ligne de code\n",
    "nci60_labels = pd.read_csv('../../data/NCI60-labels.csv', index_col=[0])\n",
    "nci60_labels['x'].unique()"
   ]
  },
  {
   "cell_type": "markdown",
   "metadata": {},
   "source": [
    "**Exercice 1-4 - Selon vous, est-il nécéssaire de mettre à l'échelle (standardiser ou normaliser) le jeu de données ? Justifier votre réponse.**"
   ]
  },
  {
   "cell_type": "code",
   "execution_count": 9,
   "metadata": {},
   "outputs": [
    {
     "data": {
      "text/html": [
       "<div>\n",
       "<style scoped>\n",
       "    .dataframe tbody tr th:only-of-type {\n",
       "        vertical-align: middle;\n",
       "    }\n",
       "\n",
       "    .dataframe tbody tr th {\n",
       "        vertical-align: top;\n",
       "    }\n",
       "\n",
       "    .dataframe thead th {\n",
       "        text-align: right;\n",
       "    }\n",
       "</style>\n",
       "<table border=\"1\" class=\"dataframe\">\n",
       "  <thead>\n",
       "    <tr style=\"text-align: right;\">\n",
       "      <th></th>\n",
       "      <th>1</th>\n",
       "      <th>2</th>\n",
       "      <th>3</th>\n",
       "      <th>4</th>\n",
       "      <th>5</th>\n",
       "      <th>6</th>\n",
       "      <th>7</th>\n",
       "      <th>8</th>\n",
       "      <th>9</th>\n",
       "      <th>10</th>\n",
       "      <th>...</th>\n",
       "      <th>6821</th>\n",
       "      <th>6822</th>\n",
       "      <th>6823</th>\n",
       "      <th>6824</th>\n",
       "      <th>6825</th>\n",
       "      <th>6826</th>\n",
       "      <th>6827</th>\n",
       "      <th>6828</th>\n",
       "      <th>6829</th>\n",
       "      <th>6830</th>\n",
       "    </tr>\n",
       "  </thead>\n",
       "  <tbody>\n",
       "    <tr>\n",
       "      <th>count</th>\n",
       "      <td>64.000000</td>\n",
       "      <td>64.000000</td>\n",
       "      <td>64.000000</td>\n",
       "      <td>64.000000</td>\n",
       "      <td>64.000000</td>\n",
       "      <td>64.000000</td>\n",
       "      <td>64.000000</td>\n",
       "      <td>64.000000</td>\n",
       "      <td>64.000000</td>\n",
       "      <td>64.000000</td>\n",
       "      <td>...</td>\n",
       "      <td>64.000000</td>\n",
       "      <td>64.000000</td>\n",
       "      <td>64.000000</td>\n",
       "      <td>64.000000</td>\n",
       "      <td>64.000000</td>\n",
       "      <td>64.000000</td>\n",
       "      <td>64.000000</td>\n",
       "      <td>64.000000</td>\n",
       "      <td>64.000000</td>\n",
       "      <td>64.000000</td>\n",
       "    </tr>\n",
       "    <tr>\n",
       "      <th>mean</th>\n",
       "      <td>-0.019063</td>\n",
       "      <td>-0.027813</td>\n",
       "      <td>-0.019923</td>\n",
       "      <td>-0.328673</td>\n",
       "      <td>0.026093</td>\n",
       "      <td>0.006718</td>\n",
       "      <td>0.019687</td>\n",
       "      <td>-0.023126</td>\n",
       "      <td>0.000780</td>\n",
       "      <td>0.019237</td>\n",
       "      <td>...</td>\n",
       "      <td>-0.079551</td>\n",
       "      <td>0.402577</td>\n",
       "      <td>0.295077</td>\n",
       "      <td>0.171093</td>\n",
       "      <td>0.101152</td>\n",
       "      <td>0.153671</td>\n",
       "      <td>0.090775</td>\n",
       "      <td>-0.126798</td>\n",
       "      <td>0.129921</td>\n",
       "      <td>0.143514</td>\n",
       "    </tr>\n",
       "    <tr>\n",
       "      <th>std</th>\n",
       "      <td>0.441332</td>\n",
       "      <td>0.757433</td>\n",
       "      <td>0.433306</td>\n",
       "      <td>1.091905</td>\n",
       "      <td>0.485073</td>\n",
       "      <td>0.350432</td>\n",
       "      <td>0.370683</td>\n",
       "      <td>0.338629</td>\n",
       "      <td>0.429188</td>\n",
       "      <td>0.641583</td>\n",
       "      <td>...</td>\n",
       "      <td>0.890365</td>\n",
       "      <td>1.131769</td>\n",
       "      <td>1.121419</td>\n",
       "      <td>0.888764</td>\n",
       "      <td>0.641122</td>\n",
       "      <td>0.924292</td>\n",
       "      <td>1.209138</td>\n",
       "      <td>0.787136</td>\n",
       "      <td>0.566303</td>\n",
       "      <td>1.509312</td>\n",
       "    </tr>\n",
       "    <tr>\n",
       "      <th>min</th>\n",
       "      <td>-1.060000</td>\n",
       "      <td>-2.190000</td>\n",
       "      <td>-1.710000</td>\n",
       "      <td>-2.610000</td>\n",
       "      <td>-0.825000</td>\n",
       "      <td>-0.700000</td>\n",
       "      <td>-0.920000</td>\n",
       "      <td>-0.705000</td>\n",
       "      <td>-0.900000</td>\n",
       "      <td>-1.654981</td>\n",
       "      <td>...</td>\n",
       "      <td>-1.850020</td>\n",
       "      <td>-0.775000</td>\n",
       "      <td>-1.150000</td>\n",
       "      <td>-2.095000</td>\n",
       "      <td>-1.390020</td>\n",
       "      <td>-1.330000</td>\n",
       "      <td>-2.030010</td>\n",
       "      <td>-1.700000</td>\n",
       "      <td>-0.910000</td>\n",
       "      <td>-2.830000</td>\n",
       "    </tr>\n",
       "    <tr>\n",
       "      <th>25%</th>\n",
       "      <td>-0.372500</td>\n",
       "      <td>-0.404985</td>\n",
       "      <td>-0.192485</td>\n",
       "      <td>-1.322500</td>\n",
       "      <td>-0.225000</td>\n",
       "      <td>-0.156250</td>\n",
       "      <td>-0.246250</td>\n",
       "      <td>-0.204985</td>\n",
       "      <td>-0.360000</td>\n",
       "      <td>-0.477466</td>\n",
       "      <td>...</td>\n",
       "      <td>-0.660019</td>\n",
       "      <td>-0.177500</td>\n",
       "      <td>-0.327500</td>\n",
       "      <td>-0.328750</td>\n",
       "      <td>-0.232519</td>\n",
       "      <td>-0.330000</td>\n",
       "      <td>-0.602510</td>\n",
       "      <td>-0.682500</td>\n",
       "      <td>-0.275000</td>\n",
       "      <td>-1.100000</td>\n",
       "    </tr>\n",
       "    <tr>\n",
       "      <th>50%</th>\n",
       "      <td>0.000000</td>\n",
       "      <td>0.000000</td>\n",
       "      <td>0.000000</td>\n",
       "      <td>0.000000</td>\n",
       "      <td>0.000000</td>\n",
       "      <td>0.000000</td>\n",
       "      <td>0.000000</td>\n",
       "      <td>0.000000</td>\n",
       "      <td>0.000000</td>\n",
       "      <td>0.000000</td>\n",
       "      <td>...</td>\n",
       "      <td>0.000000</td>\n",
       "      <td>0.000000</td>\n",
       "      <td>0.000000</td>\n",
       "      <td>0.000000</td>\n",
       "      <td>0.000000</td>\n",
       "      <td>0.000000</td>\n",
       "      <td>0.000000</td>\n",
       "      <td>0.000000</td>\n",
       "      <td>0.000000</td>\n",
       "      <td>0.000000</td>\n",
       "    </tr>\n",
       "    <tr>\n",
       "      <th>75%</th>\n",
       "      <td>0.310005</td>\n",
       "      <td>0.352500</td>\n",
       "      <td>0.162490</td>\n",
       "      <td>0.692500</td>\n",
       "      <td>0.210000</td>\n",
       "      <td>0.184995</td>\n",
       "      <td>0.247505</td>\n",
       "      <td>0.160015</td>\n",
       "      <td>0.295000</td>\n",
       "      <td>0.467519</td>\n",
       "      <td>...</td>\n",
       "      <td>0.304980</td>\n",
       "      <td>0.560000</td>\n",
       "      <td>0.422500</td>\n",
       "      <td>0.427500</td>\n",
       "      <td>0.302480</td>\n",
       "      <td>0.325000</td>\n",
       "      <td>0.134995</td>\n",
       "      <td>0.302505</td>\n",
       "      <td>0.451255</td>\n",
       "      <td>1.250000</td>\n",
       "    </tr>\n",
       "    <tr>\n",
       "      <th>max</th>\n",
       "      <td>0.940000</td>\n",
       "      <td>2.240000</td>\n",
       "      <td>1.150000</td>\n",
       "      <td>1.500000</td>\n",
       "      <td>1.715000</td>\n",
       "      <td>1.160000</td>\n",
       "      <td>0.940000</td>\n",
       "      <td>0.724961</td>\n",
       "      <td>0.990000</td>\n",
       "      <td>1.490019</td>\n",
       "      <td>...</td>\n",
       "      <td>2.929980</td>\n",
       "      <td>5.200000</td>\n",
       "      <td>5.510000</td>\n",
       "      <td>3.995000</td>\n",
       "      <td>2.899980</td>\n",
       "      <td>4.600000</td>\n",
       "      <td>5.339990</td>\n",
       "      <td>2.560000</td>\n",
       "      <td>2.030000</td>\n",
       "      <td>3.940000</td>\n",
       "    </tr>\n",
       "  </tbody>\n",
       "</table>\n",
       "<p>8 rows × 6830 columns</p>\n",
       "</div>"
      ],
      "text/plain": [
       "               1          2          3          4          5          6  \\\n",
       "count  64.000000  64.000000  64.000000  64.000000  64.000000  64.000000   \n",
       "mean   -0.019063  -0.027813  -0.019923  -0.328673   0.026093   0.006718   \n",
       "std     0.441332   0.757433   0.433306   1.091905   0.485073   0.350432   \n",
       "min    -1.060000  -2.190000  -1.710000  -2.610000  -0.825000  -0.700000   \n",
       "25%    -0.372500  -0.404985  -0.192485  -1.322500  -0.225000  -0.156250   \n",
       "50%     0.000000   0.000000   0.000000   0.000000   0.000000   0.000000   \n",
       "75%     0.310005   0.352500   0.162490   0.692500   0.210000   0.184995   \n",
       "max     0.940000   2.240000   1.150000   1.500000   1.715000   1.160000   \n",
       "\n",
       "               7          8          9         10  ...       6821       6822  \\\n",
       "count  64.000000  64.000000  64.000000  64.000000  ...  64.000000  64.000000   \n",
       "mean    0.019687  -0.023126   0.000780   0.019237  ...  -0.079551   0.402577   \n",
       "std     0.370683   0.338629   0.429188   0.641583  ...   0.890365   1.131769   \n",
       "min    -0.920000  -0.705000  -0.900000  -1.654981  ...  -1.850020  -0.775000   \n",
       "25%    -0.246250  -0.204985  -0.360000  -0.477466  ...  -0.660019  -0.177500   \n",
       "50%     0.000000   0.000000   0.000000   0.000000  ...   0.000000   0.000000   \n",
       "75%     0.247505   0.160015   0.295000   0.467519  ...   0.304980   0.560000   \n",
       "max     0.940000   0.724961   0.990000   1.490019  ...   2.929980   5.200000   \n",
       "\n",
       "            6823       6824       6825       6826       6827       6828  \\\n",
       "count  64.000000  64.000000  64.000000  64.000000  64.000000  64.000000   \n",
       "mean    0.295077   0.171093   0.101152   0.153671   0.090775  -0.126798   \n",
       "std     1.121419   0.888764   0.641122   0.924292   1.209138   0.787136   \n",
       "min    -1.150000  -2.095000  -1.390020  -1.330000  -2.030010  -1.700000   \n",
       "25%    -0.327500  -0.328750  -0.232519  -0.330000  -0.602510  -0.682500   \n",
       "50%     0.000000   0.000000   0.000000   0.000000   0.000000   0.000000   \n",
       "75%     0.422500   0.427500   0.302480   0.325000   0.134995   0.302505   \n",
       "max     5.510000   3.995000   2.899980   4.600000   5.339990   2.560000   \n",
       "\n",
       "            6829       6830  \n",
       "count  64.000000  64.000000  \n",
       "mean    0.129921   0.143514  \n",
       "std     0.566303   1.509312  \n",
       "min    -0.910000  -2.830000  \n",
       "25%    -0.275000  -1.100000  \n",
       "50%     0.000000   0.000000  \n",
       "75%     0.451255   1.250000  \n",
       "max     2.030000   3.940000  \n",
       "\n",
       "[8 rows x 6830 columns]"
      ]
     },
     "execution_count": 9,
     "metadata": {},
     "output_type": "execute_result"
    }
   ],
   "source": [
    "# Votre réponse ici\n",
    "nci60.describe()"
   ]
  },
  {
   "cell_type": "markdown",
   "metadata": {},
   "source": [
    "## 2 - Analyse en composantes principales (ACP)"
   ]
  },
  {
   "cell_type": "markdown",
   "metadata": {},
   "source": [
    "**Exercice 2-1 - À l'aide de la libraire Scikit-learn, effectuer une analyse en composantes principales. Vérifier la proportion de variance (PVE) et afficher sur un graphique les deux premières composantes et le type de cancer. Que constatez-vous ?**"
   ]
  },
  {
   "cell_type": "code",
   "execution_count": 14,
   "metadata": {},
   "outputs": [],
   "source": [
    "# Compléter cette cellule (ACP) ~ 3 lignes de code\n",
    "\n",
    "from sklearn.decomposition import PCA\n",
    "\n",
    "pca = PCA()\n",
    "pca.fit(nci60)\n",
    "nci_60_pca = pca.transform(nci60)"
   ]
  },
  {
   "cell_type": "code",
   "execution_count": 16,
   "metadata": {},
   "outputs": [
    {
     "data": {
      "text/plain": [
       "<BarContainer object of 64 artists>"
      ]
     },
     "execution_count": 16,
     "metadata": {},
     "output_type": "execute_result"
    },
    {
     "data": {
      "image/png": "[encoded data removed]",
      "text/plain": [
       "<Figure size 1200x800 with 1 Axes>"
      ]
     },
     "metadata": {},
     "output_type": "display_data"
    }
   ],
   "source": [
    "pca.n_components_\n",
    "plt.bar(range(0, pca.n_components_), pca.explained_variance_ratio_)"
   ]
  },
  {
   "cell_type": "code",
   "execution_count": null,
   "metadata": {},
   "outputs": [],
   "source": [
    "# Compléter cette cellule (variance) ~ 1 ligne de code (barchart: variance /composante)"
   ]
  },
  {
   "cell_type": "code",
   "execution_count": null,
   "metadata": {},
   "outputs": [],
   "source": [
    "# Compléter cette cellule (affichage) ~ 1 ligne de code (scatterplot: PC1 et PC2)"
   ]
  },
  {
   "cell_type": "code",
   "execution_count": null,
   "metadata": {},
   "outputs": [],
   "source": [
    "# Pour la fois prochaine:\n",
    "# Afficher le diagramme en nuages de points avec coloration des différentes observations.\n",
    "# Mettre la capture d'écran du diagramme sur le forum."
   ]
  },
  {
   "cell_type": "markdown",
   "metadata": {},
   "source": [
    "## 3 - Regroupement hiérarchique"
   ]
  },
  {
   "cell_type": "markdown",
   "metadata": {},
   "source": [
    "Nous effectuons maintenant le regroupement hiérarchique à l'aide des 4 méthodes de lien vus en cours: Ward, Complete, Average et Single. La distance euclidienne est utilisée comme mesure de dissimilarité. Pour chaque lien, afficher le dendrogramme correspondant (voir `helpers.py`)"
   ]
  },
  {
   "cell_type": "markdown",
   "metadata": {},
   "source": [
    "**Exercice 3-1 - Linkage par défaut (Ward)**"
   ]
  },
  {
   "cell_type": "code",
   "execution_count": null,
   "metadata": {},
   "outputs": [],
   "source": [
    "# Compléter cette cellule ~ 2 lignes de code"
   ]
  },
  {
   "cell_type": "markdown",
   "metadata": {},
   "source": [
    "**Exercice 3-2 - Linkage Complete**"
   ]
  },
  {
   "cell_type": "code",
   "execution_count": null,
   "metadata": {},
   "outputs": [],
   "source": [
    "# Compléter cette cellule ~ 2 lignes de code"
   ]
  },
  {
   "cell_type": "markdown",
   "metadata": {},
   "source": [
    "**Exercice 3-3 - Linkage average**"
   ]
  },
  {
   "cell_type": "code",
   "execution_count": null,
   "metadata": {},
   "outputs": [],
   "source": [
    "# Compléter cette cellule ~ 2 lignes de code"
   ]
  },
  {
   "cell_type": "markdown",
   "metadata": {},
   "source": [
    "**Exercice 3-4 - Linkage Single**"
   ]
  },
  {
   "cell_type": "code",
   "execution_count": null,
   "metadata": {},
   "outputs": [],
   "source": [
    "# Compléter cette cellule ~ 2 lignes de code"
   ]
  },
  {
   "cell_type": "markdown",
   "metadata": {},
   "source": [
    "**Exercice 3-5 - Compte tenu des résultats précédents, choisir une méthode de lien et seuiller le dendrogramme à la hauteur \"optimale\"**"
   ]
  },
  {
   "cell_type": "code",
   "execution_count": null,
   "metadata": {},
   "outputs": [],
   "source": [
    "# Compléter la cellule ~ 2 lignes de code"
   ]
  },
  {
   "cell_type": "markdown",
   "metadata": {},
   "source": [
    "## 4 - Partitionnement K-moyennes"
   ]
  },
  {
   "cell_type": "markdown",
   "metadata": {},
   "source": [
    "**Exercice 4 - Comparer les résultats précédents avec le partitionnement K-moyennes**"
   ]
  },
  {
   "cell_type": "code",
   "execution_count": null,
   "metadata": {},
   "outputs": [],
   "source": [
    "# Compléter la cellule ~ 5-10 lignes de code"
   ]
  },
  {
   "cell_type": "markdown",
   "metadata": {},
   "source": [
    "## 5 - Débruitage des données par ACP (optionnel)"
   ]
  },
  {
   "cell_type": "markdown",
   "metadata": {},
   "source": [
    "**Exercice 5 - Effectuer le regroupement hiérarchique directement sur les premières composantes principales. Comparer les résultats obtenus avec ceux du jeu de données \"complet\"**"
   ]
  },
  {
   "cell_type": "code",
   "execution_count": null,
   "metadata": {},
   "outputs": [],
   "source": [
    "# Compléter la cellule ~ X lignes de code"
   ]
  },
  {
   "cell_type": "markdown",
   "metadata": {},
   "source": [
    "## 6 - Références"
   ]
  },
  {
   "cell_type": "markdown",
   "metadata": {},
   "source": [
    "Cet atelier est grandement inspiré du Lab 3: NCI60 Data Example (Introduction to statistical learning)"
   ]
  },
  {
   "cell_type": "markdown",
   "metadata": {},
   "source": [
    "**Fin de l'atelier 01-03**"
   ]
  }
 ],
 "metadata": {
  "kernelspec": {
   "display_name": "Python 3 (ipykernel)",
   "language": "python",
   "name": "python3"
  },
  "language_info": {
   "codemirror_mode": {
    "name": "ipython",
    "version": 3
   },
   "file_extension": ".py",
   "mimetype": "text/x-python",
   "name": "python",
   "nbconvert_exporter": "python",
   "pygments_lexer": "ipython3",
   "version": "3.11.2"
  }
 },
 "nbformat": 4,
 "nbformat_minor": 2
}
