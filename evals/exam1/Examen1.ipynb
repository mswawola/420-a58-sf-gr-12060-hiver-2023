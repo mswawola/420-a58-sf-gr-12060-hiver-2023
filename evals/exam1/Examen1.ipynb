{
 "cells": [
  {
   "cell_type": "markdown",
   "metadata": {},
   "source": [
    "**420-A58-SF - Algorithmes d'apprentissage non supervisé - Hiver 2023 - Spécialisation technique en Intelligence Artificielle**<br/>\n",
    "MIT License - Copyright (c) 2023 Mikaël Swawola\n",
    "<br/>\n",
    "![Examen #1 - Segmentation du marché](static/exam1-banner.png)\n",
    "<br/>"
   ]
  },
  {
   "cell_type": "markdown",
   "metadata": {},
   "source": [
    "# À propos de l'examen"
   ]
  },
  {
   "cell_type": "markdown",
   "metadata": {},
   "source": [
    "* **Date et heure**: Mercredi 19 avril 2023 de 18h30 à 22h00\n",
    "* **Pondération**: 30%\n",
    "* **Tous les documents sont autorisés**\n",
    "* **Il s'agit d'un travail individuel. Toute collaboration (avec quiconque!) et plagiat sont strictement interdits. Le non respect de cette consigne entraînera une note de 0 à l'examen**.\n",
    "* L'examen est noté sur 100 points\n",
    "* Remettre ce fichier complété de vos réponses sur la plateforme Lea au plus tard à 22h00. <span style=\"color:red;\">**Une pénalité de 5 points par minute excédentaire entamée sera appliquée.**</span>"
   ]
  },
  {
   "cell_type": "markdown",
   "metadata": {},
   "source": [
    "---\n",
    "# Avant de commencer"
   ]
  },
  {
   "cell_type": "markdown",
   "metadata": {},
   "source": [
    "* Cet examen couvre les chapitres 01-01 à 01-05 du cours *420-A58-SF - Apprentisage non supervisé*. Des éléments du *cours 420-A55-SF - Analyse exploratoire des données* relatifs à l'apprentissage non supervisé sont requis (ACP).\n",
    "* Le jeu de données est considéré comme préparé. Il ne contient par exemple ni valeurs abérrantes, ni données manquantes. **Ne mélangez (shuffle) pas les données!**\n",
    "* Vous devrez rendre ce fichier complété de **vos réponses et de votre code** sur la plateforme Lea à la fin de l'examen.\n",
    "* Renommez le présent fichier en incluant vos noms et prénoms. Exemple: **Examen1_&lt;nom_prenom&gt;.ipynb**\n",
    "* Lisez bien les questions et **<span style=\"color:green;\">bon succès à tous !</span>**"
   ]
  },
  {
   "cell_type": "markdown",
   "metadata": {},
   "source": [
    "---\n",
    "# Description de la problématique"
   ]
  },
  {
   "cell_type": "markdown",
   "metadata": {},
   "source": [
    "La **segmentation de marché** consiste au découpage d'un marché de clients en sous-groupes similaires. Ceci permet alors la mise en oeuvre de stratégies marketing spécifiques (ciblées) à chaque sous-groupe de client."
   ]
  },
  {
   "cell_type": "markdown",
   "metadata": {},
   "source": [
    "Les méthodes de **partitionnement de données** que nous avons vu en cours sont extrèmement populaire en segmentation de marché. Pour ce problème, nous verrons comment celles-ci sont utilisées pour découvrir des sous-groupes de clients similaires dans la catégorie appartennant au programme de fidélisation de la compagnie aérienne fictive **AirAlgo**.\n",
    "L'objectif de la compagnie est d'en apprendre plus sur ses clients afin de pouvoir cibler différents segments de clientèle avec différents types d'offres de miles."
   ]
  },
  {
   "cell_type": "markdown",
   "metadata": {},
   "source": [
    "Le jeu de données est contenu dans le fichier `AirAlgo.csv`. Les informations sur les membres du programme \"Frequent Flyer\" y sont représentées sous forme tabulaire (lignes, colonnes). Ce jeu de données est issu de l'ouvrage [\"Data Mining for Business Intelligence,\" par Galit Shmueli, Nitin R. Patel, et Peter C. Bruce](https://www.safaribooksonline.com/library/view/data-mining-for/9780470526828/). Cette référence est donnée à titre de citation des sources et n'est pas requise pour la réalisation de l'examen."
   ]
  },
  {
   "cell_type": "markdown",
   "metadata": {},
   "source": [
    "Les variables associées aux observations sont les suivantes:\n",
    "\n",
    "| Nom de la variable  | Description de la variable  |\n",
    "|---|---|\n",
    "|Balance   | Nombre de miles éligibles pour des récompenses de voyages  |\n",
    "|QualMiles  | Nombre de miles qualifiant pour le status \"TopFlight\"  |\n",
    "|BonusMiles | Nombre de miles obtenus à partir de bonus sur transactions hors vols (12 derniers mois)  |\n",
    "|BonusTrans | Nombre de bonus sur transactions hors vols (12 derniers mois)  |\n",
    "|FlightMiles | Nombre de miles (vols) (12 derniers mois)  |\n",
    "|FlightTrans | Nombre de transactions de vols (12 derniers mois)  |\n",
    "|DaysSinceEnroll | Nombre de jours depuis l'inscription au programme \"Frequent flyer\"  |"
   ]
  },
  {
   "cell_type": "markdown",
   "metadata": {},
   "source": [
    "---\n",
    "# 1 - Exploration sommaire des données (10 points)"
   ]
  },
  {
   "cell_type": "markdown",
   "metadata": {},
   "source": [
    "### Question 1-1 - Combien d'observations (membres du programme \"Frequent Flyer\") contient le jeu de données ? (2.5 points)"
   ]
  },
  {
   "cell_type": "markdown",
   "metadata": {},
   "source": [
    "### ----- Votre réponse ci-dessous -----"
   ]
  },
  {
   "cell_type": "code",
   "execution_count": null,
   "metadata": {},
   "outputs": [],
   "source": []
  },
  {
   "cell_type": "markdown",
   "metadata": {},
   "source": [
    "### Question 1-2 - Combien de variables y a-t-il ? Quelle est la nature (quantitative ou qualitative) de chacune des variables ? (2.5 points)"
   ]
  },
  {
   "cell_type": "markdown",
   "metadata": {},
   "source": [
    "### ----- Votre réponse ci-dessous -----"
   ]
  },
  {
   "cell_type": "code",
   "execution_count": null,
   "metadata": {},
   "outputs": [],
   "source": []
  },
  {
   "cell_type": "markdown",
   "metadata": {},
   "source": [
    "### Question 1-3 - Quelles sont les deux variables ayant en moyenne les valeurs les plus faibles ? (2.5 points)"
   ]
  },
  {
   "cell_type": "markdown",
   "metadata": {},
   "source": [
    "### ----- Votre réponse ci-dessous -----"
   ]
  },
  {
   "cell_type": "code",
   "execution_count": null,
   "metadata": {},
   "outputs": [],
   "source": []
  },
  {
   "cell_type": "markdown",
   "metadata": {},
   "source": [
    "### Question 1-4 - Quelles sont les deux variables ayant en moyenne les valeurs les plus élevées ? (2.5 points)"
   ]
  },
  {
   "cell_type": "markdown",
   "metadata": {},
   "source": [
    "### ----- Votre réponse ci-dessous -----"
   ]
  },
  {
   "cell_type": "code",
   "execution_count": null,
   "metadata": {},
   "outputs": [],
   "source": []
  },
  {
   "cell_type": "markdown",
   "metadata": {},
   "source": [
    "---\n",
    "# 2 - Mise à l'échelle des données (10 points)"
   ]
  },
  {
   "cell_type": "markdown",
   "metadata": {},
   "source": [
    "### Question 2-1 - Sachant que nous allons appliquer des techniques de partitionnement, pourquoi est-il nécéssaire de mettre les données à l'échelle (standardiser, normaliser, ...)? Justifier votre réponse. (5 points)"
   ]
  },
  {
   "cell_type": "markdown",
   "metadata": {},
   "source": [
    "### ----- Votre réponse ci-dessous -----"
   ]
  },
  {
   "cell_type": "code",
   "execution_count": null,
   "metadata": {},
   "outputs": [],
   "source": []
  },
  {
   "cell_type": "markdown",
   "metadata": {},
   "source": [
    "### Question 2-2 - Quelle variable à la valeur la plus basse sur les données mises à l'échelle ? (2.5 points)"
   ]
  },
  {
   "cell_type": "markdown",
   "metadata": {},
   "source": [
    "### ----- Votre réponse ci-dessous -----"
   ]
  },
  {
   "cell_type": "code",
   "execution_count": null,
   "metadata": {},
   "outputs": [],
   "source": []
  },
  {
   "cell_type": "markdown",
   "metadata": {},
   "source": [
    "### Question 2-3 - Quelle variable à la valeur la plus élevée sur les données mises à l'échelle ? (2.5 points)"
   ]
  },
  {
   "cell_type": "markdown",
   "metadata": {},
   "source": [
    "### ----- Votre réponse ci-dessous -----"
   ]
  },
  {
   "cell_type": "code",
   "execution_count": null,
   "metadata": {},
   "outputs": [],
   "source": []
  },
  {
   "cell_type": "markdown",
   "metadata": {},
   "source": [
    "---\n",
    "# 3 - Partitionnement hiérarchique (40 points)"
   ]
  },
  {
   "cell_type": "markdown",
   "metadata": {},
   "source": [
    "### Question 3-1 - Effectuer un partitionnement hiérarchique et afficher le dendrogramme correspondant. Vous devrez sélectionner la méthode de lien la mieux adaptée. L'affichage peut se faire en utilisant la fonction plot_dendrogram (fichier helpers.py). Le paramètre no_labels peut être mis à `True` afin de réduire le temps d'affichage (ce jeu de données n'a de toute façon pas d'étiquettes !). (5 points)"
   ]
  },
  {
   "cell_type": "markdown",
   "metadata": {},
   "source": [
    "### ----- Votre réponse ci-dessous -----"
   ]
  },
  {
   "cell_type": "code",
   "execution_count": null,
   "metadata": {
    "scrolled": true
   },
   "outputs": [],
   "source": []
  },
  {
   "cell_type": "markdown",
   "metadata": {},
   "source": [
    "### Question 3-2 - Un spécialiste en marketing de la compagnie AirAlgo vous suggère la présence de 3 sous groupes de clients. En considérant le dendrogramme obtenu précédemment, vous estimez que ce chiffre n'est pas adéquat. Que pourraient être les valeurs alternatives et pourquoi ? (5 points)"
   ]
  },
  {
   "cell_type": "markdown",
   "metadata": {},
   "source": [
    "### ----- Votre réponse ci-dessous -----"
   ]
  },
  {
   "cell_type": "code",
   "execution_count": null,
   "metadata": {},
   "outputs": [],
   "source": []
  },
  {
   "cell_type": "markdown",
   "metadata": {},
   "source": [
    "### Question 3-3 - Satisfaits de vos résultats précédents, vous réuississez à convaincre le spécialiste Marketing qu'il existe cinq sous-groupes de clients. Ré-effectuez le partitionnement hiérarchique avec le nombre adéquat de partitions. Combien de clients composent la première partition (celle d'indice 0)?  (5 points)"
   ]
  },
  {
   "cell_type": "markdown",
   "metadata": {},
   "source": [
    "### ----- Votre réponse ci-dessous -----"
   ]
  },
  {
   "cell_type": "code",
   "execution_count": null,
   "metadata": {},
   "outputs": [],
   "source": []
  },
  {
   "cell_type": "markdown",
   "metadata": {},
   "source": [
    "### Question 3-4 - Calculez le centroïde de la première partition. Remarque: afin de faciliter l'interprétation à venir, vous devez le calculer sur les données non mises à l'échelle. (5 points)"
   ]
  },
  {
   "cell_type": "markdown",
   "metadata": {},
   "source": [
    "### ----- Votre réponse ci-dessous -----"
   ]
  },
  {
   "cell_type": "code",
   "execution_count": null,
   "metadata": {},
   "outputs": [],
   "source": []
  },
  {
   "cell_type": "markdown",
   "metadata": {},
   "source": [
    "### Question 3-5 - En vous basant sur la question précédente, comparez les centroïdes des partitions retenues. Pour aider, vous pouvez créer une trame de données dont les lignes correspondent aux partitions et les colonnes aux variables. La première partition (d'indice 0) montre les valeurs moyennes les plus élevées pour 3 des variables. Lesquelles ? (5 points)"
   ]
  },
  {
   "cell_type": "markdown",
   "metadata": {},
   "source": [
    "### ----- Votre réponse ci-dessous -----"
   ]
  },
  {
   "cell_type": "code",
   "execution_count": null,
   "metadata": {},
   "outputs": [],
   "source": []
  },
  {
   "cell_type": "markdown",
   "metadata": {},
   "source": [
    "### Question 3-6 - Quelle description représente le mieux la première partition (indice 0) ? Justifiez votre réponse. (5 points)\n",
    "\n",
    "#### A - Nouveaux clients n'utilisant pas les vols très souvent.\n",
    "#### B - Clients ayant accumulé un grand nombre de miles, la plupart par des transactions hors vols.\n",
    "#### C - Clients fidèles n'utilisant pas les lignes fréquemment.\n",
    "#### D - Clients ayant accumulé un grand nombre de miles et ayant le plus voyagé avec la compagnie.\n",
    "#### E - Clients récents accumulant des miles, la plupart par des transactions hors vols."
   ]
  },
  {
   "cell_type": "markdown",
   "metadata": {},
   "source": [
    "### ----- Votre réponse ci-dessous -----"
   ]
  },
  {
   "cell_type": "code",
   "execution_count": null,
   "metadata": {},
   "outputs": [],
   "source": []
  },
  {
   "cell_type": "markdown",
   "metadata": {},
   "source": [
    "### Question 3-7 - Quelle description représente le mieux le deuxième cluster (indice 1) ?  Justifiez votre réponse. (5 points)\n",
    "\n",
    "\n",
    "#### A - Clients récents accumulant des miles, la plupart par des transactions hors vols.\n",
    "#### B - Clients ayant accumulé un grand nombre de miles, la plupart par des transactions hors vols.\n",
    "#### C - Clients fidèles n'utilisant pas les lignes fréquemment.\n",
    "#### D - Nouveaux clients n'utilisant pas les vols très souvent.\n",
    "#### E - Clients ayant accumulé un grand nombre de miles et ayant le plus voyagé avec la compagnie.\n"
   ]
  },
  {
   "cell_type": "markdown",
   "metadata": {},
   "source": [
    "### ----- Votre réponse ci-dessous -----"
   ]
  },
  {
   "cell_type": "code",
   "execution_count": null,
   "metadata": {},
   "outputs": [],
   "source": []
  },
  {
   "cell_type": "markdown",
   "metadata": {},
   "source": [
    "### Question 3-8 - Quelle description représente le mieux la cinquième partition (indice 4) ?  Justifiez votre réponse. (5 points)\n",
    "\n",
    "\n",
    "#### A - Clients récents accumulant des miles, la plupart par des transactions hors vols.\n",
    "#### B - Clients ayant accumulé un grand nombre de miles, la plupart par des transactions hors vols.\n",
    "#### C - Clients fidèles n'utilisant pas les lignes fréquemment.\n",
    "#### D - Clients ayant accumulé un grand nombre de miles et ayant le plus voyagé avec la compagnie.\n",
    "#### E - Nouveaux clients n'utilisant pas les vols très souvent."
   ]
  },
  {
   "cell_type": "markdown",
   "metadata": {},
   "source": [
    "### ----- Votre réponse ci-dessous -----"
   ]
  },
  {
   "cell_type": "code",
   "execution_count": null,
   "metadata": {},
   "outputs": [],
   "source": []
  },
  {
   "cell_type": "markdown",
   "metadata": {},
   "source": [
    "---\n",
    "# 4 - Partitionnement en K-moyennes (20 points)"
   ]
  },
  {
   "cell_type": "markdown",
   "metadata": {},
   "source": [
    "### Question 4-1 - En gardant le même nombre de partitions, appliquez l'algorithme des K-moyennes avec un seed de 2023. (15 points)"
   ]
  },
  {
   "cell_type": "markdown",
   "metadata": {},
   "source": [
    "### ----- Votre réponse ci-dessous -----"
   ]
  },
  {
   "cell_type": "code",
   "execution_count": null,
   "metadata": {},
   "outputs": [],
   "source": []
  },
  {
   "cell_type": "markdown",
   "metadata": {},
   "source": [
    "### Question 4-2 - Quelle partition représente le mieux les clients ayant accumulé un grand nombre de miles par des transactions hors vols ? (5 points)"
   ]
  },
  {
   "cell_type": "markdown",
   "metadata": {},
   "source": [
    "### ----- Votre réponse ci-dessous -----"
   ]
  },
  {
   "cell_type": "code",
   "execution_count": null,
   "metadata": {},
   "outputs": [],
   "source": []
  },
  {
   "cell_type": "markdown",
   "metadata": {},
   "source": [
    "---\n",
    "# 5 - Visualisation des partitions (20 points)"
   ]
  },
  {
   "cell_type": "markdown",
   "metadata": {},
   "source": [
    "### Question 5 - À l'aide d'une ACP, visualisez les partitions obtenues par l'algorithme des K-moyennes. Utilisez un élément distinctif (couleur, symbole, etc...) pour chaque partition. (20 points)"
   ]
  },
  {
   "cell_type": "markdown",
   "metadata": {},
   "source": [
    "### ----- Votre réponse ci-dessous -----"
   ]
  },
  {
   "cell_type": "code",
   "execution_count": null,
   "metadata": {},
   "outputs": [],
   "source": []
  },
  {
   "cell_type": "markdown",
   "metadata": {},
   "source": [
    "# Fin de l'examen #1"
   ]
  }
 ],
 "metadata": {
  "kernelspec": {
   "display_name": "Python 3 (ipykernel)",
   "language": "python",
   "name": "python3"
  },
  "language_info": {
   "codemirror_mode": {
    "name": "ipython",
    "version": 3
   },
   "file_extension": ".py",
   "mimetype": "text/x-python",
   "name": "python",
   "nbconvert_exporter": "python",
   "pygments_lexer": "ipython3",
   "version": "3.11.2"
  }
 },
 "nbformat": 4,
 "nbformat_minor": 2
}
