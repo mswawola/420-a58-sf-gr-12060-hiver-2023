{
 "cells": [
  {
   "cell_type": "markdown",
   "metadata": {},
   "source": [
    "**420-A58-SF - Algorithmes d'apprentissage non supervisé - Hiver 2023 - Spécialisation technique en Intelligence Artificielle**<br/>\n",
    "MIT License - Copyright (c) 2023 Mikaël Swawola\n",
    "<br/>\n",
    "![Examen #3](static/Exam3-banner.png)\n",
    "<br/>"
   ]
  },
  {
   "cell_type": "markdown",
   "metadata": {},
   "source": [
    "# À propos de l'examen"
   ]
  },
  {
   "cell_type": "markdown",
   "metadata": {},
   "source": [
    "* **Date et heure**: Mercredi 7 juin 2023 de 18h30 à 22h00 (3.5 heures) ;\n",
    "* **Pondération**: 30% ;\n",
    "* **Tous les documents sont autorisés** ;\n",
    "* **Il s'agit d'un travail individuel. Toute collaboration (avec quiconque!) et plagiat sont strictement interdits. Le non respect de cette consigne entraînera une note de 0 à l'examen** ;\n",
    "* L'examen est noté sur 100 points ;\n",
    "* **<span style='color: red'>Conformément aux directives de la fédération des Cégeps, le professeur se réserve le droit de demander aux élèves d'activer leurs caméras et microphones afin de s'assurer du respect des conditions d'examen. Tout étudiant qui choisit de refuser cette mesure se place dans une situation équivalente à une non présentation à l’examen et s’expose donc à un échec. </span>**"
   ]
  },
  {
   "cell_type": "markdown",
   "metadata": {},
   "source": [
    "---\n",
    "# Avant de commencer"
   ]
  },
  {
   "cell_type": "markdown",
   "metadata": {},
   "source": [
    "* Cet examen couvre les parties 2, 3 et 4 du cours *420-A58-SF - Apprentissage non supervisé*.\n",
    "* Les jeux de données sont considérés comme préparés. Ils ne contiennent ni valeurs abérrantes, ni données manquantes.\n",
    "* Vous devrez rendre les fichiers `Examen3.ipynb` et `Examen3.Rmd` complétés de **vos réponses et de votre code** sur la plateforme Lea à la fin de l'examen.\n",
    "* Renommez les fichiers en incluant vos noms et prénoms. Exemple: **Examen3_&lt;nom&gt;_&lt;prenom&gt;.ipynb** et **Examen3_&lt;nom&gt;_&lt;prenom&gt;.Rmd**\n",
    "* L'examen est composé de trois parties indépendantes. Elles peuvent être réalisées dans l'ordre de votre choix.\n",
    "* <strong style='color: red'>Lisez bien les questions</strong> et <strong style='color: green'>bon succès à tous !</strong>"
   ]
  },
  {
   "cell_type": "markdown",
   "metadata": {},
   "source": [
    "---\n",
    "# Description de la problématique"
   ]
  },
  {
   "cell_type": "markdown",
   "metadata": {},
   "source": [
    "Passionné par l'industrie cinématographique, vous avez récemment collecté différents jeux de données en vue d'appliquer les techniques d'apprentissage non-supervisé et d'analyse de séries temporelles que vous venez d'apprendre. Les approches retenues pour cette étude sont: <br/>\n",
    "* Partie 1: Fouille de données basée sur les règles d'association;\n",
    "* Partie 2: Mise en oeuvre d'une recommandation basée sur le contenu;\n",
    "* Partie 3: Prédiction des ventes de tickets de cinéma.\n",
    "\n",
    "Les données, préparées et directement exploitables, sont les suivantes:\n",
    "\n",
    "| Nom du fichier  | Description  |\n",
    "|---|---|\n",
    "|  action-movies.csv | fichier contenant le casting de quelques films d'action  |\n",
    "| movies.npz | contient les notes attribuées par des utilisateurs à différents films   |\n",
    "| movie-profile.npz  | vecteur profile des films notés par le fichier movies.npz  |\n",
    "| movie_ids.txt | ids et titres des films  |\n",
    "| billets.csv  | série temporelle des ventes de billets de cinema  |"
   ]
  },
  {
   "cell_type": "markdown",
   "metadata": {},
   "source": [
    "---\n",
    "# Partie 1 - Fouille de données basée sur les règles d'association (20 points)"
   ]
  },
  {
   "cell_type": "markdown",
   "metadata": {},
   "source": [
    "Une première approche que vous choisissez est de tenter de découvrir quels acteurs et quelles actrices apparaissent souvent dans un même film d'action. Votre choix se porte sur la technique des règles d'association.\n",
    "**Chargez le jeu de données `action-movies.csv` et répondez aux question suivantes.**"
   ]
  },
  {
   "cell_type": "markdown",
   "metadata": {},
   "source": [
    "### Question 1-1 - Après avoir bien observé le jeu de données `action-movies.csv`, quels éléments représentent les \"items\" et quels éléments représentent les \"baskets\" du modèle 'market-basket' ? (4 points)"
   ]
  },
  {
   "cell_type": "markdown",
   "metadata": {},
   "source": [
    "### ----- Votre réponse ci-dessous -----"
   ]
  },
  {
   "cell_type": "code",
   "execution_count": null,
   "metadata": {},
   "outputs": [],
   "source": [
    "# Réponse rédactionnelle"
   ]
  },
  {
   "cell_type": "markdown",
   "metadata": {},
   "source": [
    "### Question 1-2 - Quel est le support de la paire { Jet Li, Sylvester Stallone } ? (4 points)"
   ]
  },
  {
   "cell_type": "markdown",
   "metadata": {},
   "source": [
    "### ----- Votre réponse ci-dessous -----"
   ]
  },
  {
   "cell_type": "code",
   "execution_count": null,
   "metadata": {},
   "outputs": [],
   "source": [
    "# ~ 10 lignes de code + réponse rédactionnelle"
   ]
  },
  {
   "cell_type": "markdown",
   "metadata": {},
   "source": [
    " ### Question 1-3 - Considérant un seuil de support de 0.10, combien d'itemsets sont fréquents ? (4 points)"
   ]
  },
  {
   "cell_type": "markdown",
   "metadata": {},
   "source": [
    "### ----- Votre réponse ci-dessous -----"
   ]
  },
  {
   "cell_type": "code",
   "execution_count": null,
   "metadata": {},
   "outputs": [],
   "source": [
    "# ~ 2 lignes de code + réponse rédactionnelle"
   ]
  },
  {
   "cell_type": "markdown",
   "metadata": {},
   "source": [
    "### Question 1-4 - Toujours en considérant un seuil de support de 0.10, quel est l'indice de confiance de la règle d'association { Jet Li } => { Sylvester Stallone } ? (4 points)"
   ]
  },
  {
   "cell_type": "markdown",
   "metadata": {},
   "source": [
    "### ----- Votre réponse ci-dessous -----"
   ]
  },
  {
   "cell_type": "code",
   "execution_count": null,
   "metadata": {},
   "outputs": [],
   "source": [
    "# ~ 4 lignes de code + réponse rédactionnelle"
   ]
  },
  {
   "cell_type": "markdown",
   "metadata": {},
   "source": [
    "### Question 1-5 - La règle { Jet Li } => { Sylvester Stallone } est-elle intéressante ? Justifiez votre réponse. (4 points)"
   ]
  },
  {
   "cell_type": "markdown",
   "metadata": {},
   "source": [
    "### ----- Votre réponse ci-dessous -----"
   ]
  },
  {
   "cell_type": "code",
   "execution_count": null,
   "metadata": {},
   "outputs": [],
   "source": [
    "# ~ 3 lignes de code + réponse rédactionnelle"
   ]
  },
  {
   "cell_type": "markdown",
   "metadata": {},
   "source": [
    "---\n",
    "# Partie 2 - Mise en oeuvre d'une recommandation basée sur le contenu (40 points)"
   ]
  },
  {
   "cell_type": "markdown",
   "metadata": {},
   "source": [
    "La deuxième approche consiste à appliquer un algorithme de recommandation sur le jeu de données `movies.npz`, constitué des notes données par des utilisateurs sur plusieurs films. Ayant en votre possesstion les vecteurs profiles des films `movie-profile.npz`, vous appliquez l'**algorithme de recommandation basée sur le contenu (Content-Based Recommandation)**."
   ]
  },
  {
   "cell_type": "markdown",
   "metadata": {},
   "source": [
    "Remarque: les jeux de données utilisés ici sont identiques à ceux de l'atelier 03-03."
   ]
  },
  {
   "cell_type": "markdown",
   "metadata": {},
   "source": [
    "### Question 2-1 - Chargez le jeu de données `movies.npz`. Quels tableaux (arrays) sont disponibles dans ce fichier ? Quelles sont leurs dimensions respectives  ? (2.5 points)"
   ]
  },
  {
   "cell_type": "markdown",
   "metadata": {},
   "source": [
    "### ----- Votre réponse ci-dessous -----"
   ]
  },
  {
   "cell_type": "code",
   "execution_count": null,
   "metadata": {},
   "outputs": [],
   "source": [
    "# ~ 5 lignes de code + réponse rédactionnelle"
   ]
  },
  {
   "cell_type": "markdown",
   "metadata": {},
   "source": [
    "### Question 2-2 - Chargez le vecteur profile des films contenu dans `movie-profile.npz`. Combien de composantes possèdent les vecteurs profiles des films ?  (2.5 points)"
   ]
  },
  {
   "cell_type": "markdown",
   "metadata": {},
   "source": [
    "### ----- Votre réponse ci-dessous -----"
   ]
  },
  {
   "cell_type": "code",
   "execution_count": null,
   "metadata": {},
   "outputs": [],
   "source": [
    "# ~ 3 lignes de code + réponse rédactionnelle"
   ]
  },
  {
   "cell_type": "markdown",
   "metadata": {},
   "source": [
    "### Question 2-3 - Normaliser la matrice d'utilité. Nommez la matrice d'utilité normalisée `Y_norm`. Afficher `Y_norm` à l'aide de la commande `print`.  (5 points)"
   ]
  },
  {
   "cell_type": "markdown",
   "metadata": {},
   "source": [
    "### ----- Votre réponse ci-dessous -----"
   ]
  },
  {
   "cell_type": "code",
   "execution_count": null,
   "metadata": {},
   "outputs": [],
   "source": [
    "# ~ 10 lignes de code"
   ]
  },
  {
   "cell_type": "markdown",
   "metadata": {},
   "source": [
    "### Question 2-4 - Afin d'appliquer l'algorithme de recommandation basée sur le contenu, initialiser aléatoirement la matrice `theta` correspondant aux vecteurs profile des utilisateurs. La dimension de cette matrice doit être choisie adéquatement. Vérifier la dimension de `theta` à l'aide de la commande `print`.  (5 points)"
   ]
  },
  {
   "cell_type": "markdown",
   "metadata": {},
   "source": [
    "### ----- Votre réponse ci-dessous -----"
   ]
  },
  {
   "cell_type": "code",
   "execution_count": null,
   "metadata": {},
   "outputs": [],
   "source": [
    "# ~ 6 lignes de code"
   ]
  },
  {
   "cell_type": "markdown",
   "metadata": {},
   "source": [
    "### Question 2-5 - Entraînez l'algorithme de recommandation basée sur le contenu. Choisissez une régularisation `L` égale à 1.5.  (10 points)"
   ]
  },
  {
   "cell_type": "markdown",
   "metadata": {},
   "source": [
    "Indice: un fichier `helpers.py` est disponible."
   ]
  },
  {
   "cell_type": "markdown",
   "metadata": {},
   "source": [
    "### ----- Votre réponse ci-dessous -----"
   ]
  },
  {
   "cell_type": "code",
   "execution_count": null,
   "metadata": {},
   "outputs": [],
   "source": [
    "# ~ 8 lignes de code"
   ]
  },
  {
   "cell_type": "markdown",
   "metadata": {},
   "source": [
    "### Question 2-6 - Calculez l'ensemble des prédictions. Afficher les notes prédites pour le premier film.  (5 points)"
   ]
  },
  {
   "cell_type": "markdown",
   "metadata": {},
   "source": [
    "### ----- Votre réponse ci-dessous -----"
   ]
  },
  {
   "cell_type": "code",
   "execution_count": null,
   "metadata": {},
   "outputs": [],
   "source": [
    "# ~ 4 lignes de code"
   ]
  },
  {
   "cell_type": "markdown",
   "metadata": {},
   "source": [
    "### Question 2-7 - Quels sont les trois films les plus similaires à Raiders of the Lost Ark (1981) ? Donner les indices et les titres de ces 3 films.  (10 points)"
   ]
  },
  {
   "cell_type": "markdown",
   "metadata": {},
   "source": [
    "### ----- Votre réponse ci-dessous -----"
   ]
  },
  {
   "cell_type": "code",
   "execution_count": null,
   "metadata": {},
   "outputs": [],
   "source": [
    "# ~ 8 lignes de code + réponse rédactionnelle"
   ]
  },
  {
   "cell_type": "markdown",
   "metadata": {},
   "source": [
    "---\n",
    "# Partie 3 - Prédiction des ventes de billets de cinéma (40 points)"
   ]
  },
  {
   "cell_type": "markdown",
   "metadata": {},
   "source": [
    "<strong style=\"color: red\">Cette partie doit être réalisée (réponses et code) intégralement au sein du fichier Examen3.Rmd.</strong>"
   ]
  },
  {
   "cell_type": "markdown",
   "metadata": {},
   "source": [
    "---\n",
    "## Fin de l'examen #3"
   ]
  }
 ],
 "metadata": {
  "kernelspec": {
   "display_name": "Python 3 (ipykernel)",
   "language": "python",
   "name": "python3"
  },
  "language_info": {
   "codemirror_mode": {
    "name": "ipython",
    "version": 3
   },
   "file_extension": ".py",
   "mimetype": "text/x-python",
   "name": "python",
   "nbconvert_exporter": "python",
   "pygments_lexer": "ipython3",
   "version": "3.11.2"
  }
 },
 "nbformat": 4,
 "nbformat_minor": 4
}
